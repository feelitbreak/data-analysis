{
 "cells": [
  {
   "cell_type": "code",
   "execution_count": null,
   "metadata": {},
   "outputs": [],
   "source": [
    "import math\n",
    "import numpy as np"
   ]
  },
  {
   "attachments": {},
   "cell_type": "markdown",
   "metadata": {},
   "source": [
    "**Задание 1. Моделирование отсчётов случайного процесса**"
   ]
  },
  {
   "cell_type": "code",
   "execution_count": null,
   "metadata": {},
   "outputs": [],
   "source": [
    "T = 20\n",
    "D = 5\n",
    "alpha = 0.1\n",
    "n = 150"
   ]
  },
  {
   "cell_type": "code",
   "execution_count": null,
   "metadata": {},
   "outputs": [],
   "source": [
    "def R(t):\n",
    "    return D * math.exp(- alpha * abs(t))"
   ]
  },
  {
   "cell_type": "code",
   "execution_count": null,
   "metadata": {},
   "outputs": [],
   "source": [
    "x = np.random.normal(0, 1, n)\n",
    "a0 = math.sqrt(D * (1 - math.exp(- 2 * alpha)))\n",
    "b1 = math.exp(- alpha)\n",
    "ksi = []\n",
    "ksi[0] = a0 * x[0]\n",
    "for i in range(1, n):\n",
    "    ksi[n] = a0 * x[i] + b1 * ksi[i - 1]"
   ]
  }
 ],
 "metadata": {
  "language_info": {
   "name": "python"
  },
  "orig_nbformat": 4
 },
 "nbformat": 4,
 "nbformat_minor": 2
}
